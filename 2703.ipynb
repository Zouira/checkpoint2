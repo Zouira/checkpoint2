{
 "cells": [
  {
   "cell_type": "code",
   "execution_count": 2,
   "id": "a69eadc2",
   "metadata": {},
   "outputs": [
    {
     "name": "stdout",
     "output_type": "stream",
     "text": [
      "Firstname soraya\n",
      "lastname claudinette\n",
      "claudinette soraya\n"
     ]
    }
   ],
   "source": [
    "firstname=input(\"Firstname \")\n",
    "Lastname =input(\"lastname \")\n",
    "print(Lastname+\" \" + firstname)\n"
   ]
  },
  {
   "cell_type": "code",
   "execution_count": 12,
   "id": "4da293af",
   "metadata": {},
   "outputs": [
    {
     "name": "stdout",
     "output_type": "stream",
     "text": [
      "15 + 1515 + 151515 = 153045\n"
     ]
    }
   ],
   "source": [
    "n=15\n",
    "s=0\n",
    "for i in range(3):\n",
    "    v=str(n)*(i+1)\n",
    "    v= int(v)\n",
    "    s= s+v\n",
    "    \n",
    "print(str(n), \"+\", str(n)*2, \"+\", str(n)*3, \"=\", s)"
   ]
  },
  {
   "cell_type": "code",
   "execution_count": 17,
   "id": "83990501",
   "metadata": {},
   "outputs": [
    {
     "name": "stdout",
     "output_type": "stream",
     "text": [
      "détail:25\n",
      "impair\n"
     ]
    }
   ],
   "source": [
    "n= int(input(\"détail:\"))\n",
    "if n%2==0:\n",
    "    print(\"Pair\")\n",
    "else:\n",
    "    print(\"impair\")\n",
    "    "
   ]
  },
  {
   "cell_type": "code",
   "execution_count": 19,
   "id": "4e80a11c",
   "metadata": {},
   "outputs": [
    {
     "name": "stdout",
     "output_type": "stream",
     "text": [
      "2002,2009,2016,2023,2037,2044,2051,2058,2072,2079,2086,2093,2107,2114,2121,2128,2142,2149,2156,2163,2177,2184,2191,2198,2212,2219,2226,2233,2247,2254,2261,2268,2282,2289,2296,2303,2317,2324,2331,2338,2352,2359,2366,2373,2387,2394,2401,2408,2422,2429,2436,2443,2457,2464,2471,2478,2492,2499,2506,2513,2527,2534,2541,2548,2562,2569,2576,2583,2597,2604,2611,2618,2632,2639,2646,2653,2667,2674,2681,2688,2702,2709,2716,2723,2737,2744,2751,2758,2772,2779,2786,2793,2807,2814,2821,2828,2842,2849,2856,2863,2877,2884,2891,2898,2912,2919,2926,2933,2947,2954,2961,2968,2982,2989,2996,3003,3017,3024,3031,3038,3052,3059,3066,3073,3087,3094,3101,3108,3122,3129,3136,3143,3157,3164,3171,3178,3192,3199,"
     ]
    }
   ],
   "source": [
    "for n in range(2000, 3201):\n",
    "    if n%7==0 and n%5 !=0:\n",
    "        print(n,end=',')"
   ]
  },
  {
   "cell_type": "code",
   "execution_count": 41,
   "id": "beb5f6c5",
   "metadata": {},
   "outputs": [
    {
     "name": "stdout",
     "output_type": "stream",
     "text": [
      "0 != 1\n"
     ]
    }
   ],
   "source": [
    "f = 1\n",
    "n = 0\n",
    "\n",
    "for i in range(n):\n",
    "    f= f * (i+1)\n",
    "print(n, \"!=\", f)"
   ]
  },
  {
   "cell_type": "code",
   "execution_count": 31,
   "id": "e2e01f75",
   "metadata": {},
   "outputs": [
    {
     "name": "stdout",
     "output_type": "stream",
     "text": [
      "Non bisextile\n"
     ]
    }
   ],
   "source": [
    "annee = 2022\n",
    "\n",
    "if annee%4==0 and annee%100 != 0:\n",
    "    print(\"Bisextile\")\n",
    "else:\n",
    "    print(\"Non bisextile\")"
   ]
  },
  {
   "cell_type": "code",
   "execution_count": 45,
   "id": "39b82988",
   "metadata": {},
   "outputs": [
    {
     "name": "stdout",
     "output_type": "stream",
     "text": [
      "hlota\n"
     ]
    }
   ],
   "source": [
    "string=\"hello team\"\n",
    "cv= \"\"\n",
    "for i in range(0, len(s), 2):\n",
    "    cv = cv+string[i]\n",
    "\n",
    "print(cv)"
   ]
  },
  {
   "cell_type": "code",
   "execution_count": 49,
   "id": "72e1c21a",
   "metadata": {},
   "outputs": [
    {
     "name": "stdout",
     "output_type": "stream",
     "text": [
      "Discount price=  45.0\n"
     ]
    }
   ],
   "source": [
    "price= 50\n",
    "\n",
    "if price>=500:\n",
    "    discount=50\n",
    "elif price>=200:\n",
    "    discount=30\n",
    "else :\n",
    "    discount=10\n",
    "    \n",
    "print (\"Discount price= \", price*(100-discount)/100)"
   ]
  }
 ],
 "metadata": {
  "kernelspec": {
   "display_name": "Python 3 (ipykernel)",
   "language": "python",
   "name": "python3"
  },
  "language_info": {
   "codemirror_mode": {
    "name": "ipython",
    "version": 3
   },
   "file_extension": ".py",
   "mimetype": "text/x-python",
   "name": "python",
   "nbconvert_exporter": "python",
   "pygments_lexer": "ipython3",
   "version": "3.9.7"
  }
 },
 "nbformat": 4,
 "nbformat_minor": 5
}
